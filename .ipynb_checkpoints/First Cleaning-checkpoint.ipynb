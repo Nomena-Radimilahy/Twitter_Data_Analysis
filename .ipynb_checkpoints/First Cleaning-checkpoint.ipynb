{
 "cells": [
  {
   "cell_type": "code",
   "execution_count": 1,
   "id": "614501da-18d3-430b-94b5-84b96404f574",
   "metadata": {},
   "outputs": [],
   "source": [
    "import pandas as pd\n",
    "from datetime import datetime"
   ]
  },
  {
   "cell_type": "code",
   "execution_count": 2,
   "id": "9a06e797-ae21-40cc-a423-cda48c6f2508",
   "metadata": {},
   "outputs": [],
   "source": [
    "# importing the data\n",
    "twitter = pd.read_csv(\"C:/Users/nomen/Twitter_Data_Analysis/data/twitter_data.csv\", encoding='utf-8')"
   ]
  },
  {
   "cell_type": "code",
   "execution_count": 3,
   "id": "26eb3f28-e0e8-42c5-86d6-d2fdd09432d8",
   "metadata": {},
   "outputs": [
    {
     "data": {
      "text/html": [
       "<div>\n",
       "<style scoped>\n",
       "    .dataframe tbody tr th:only-of-type {\n",
       "        vertical-align: middle;\n",
       "    }\n",
       "\n",
       "    .dataframe tbody tr th {\n",
       "        vertical-align: top;\n",
       "    }\n",
       "\n",
       "    .dataframe thead th {\n",
       "        text-align: right;\n",
       "    }\n",
       "</style>\n",
       "<table border=\"1\" class=\"dataframe\">\n",
       "  <thead>\n",
       "    <tr style=\"text-align: right;\">\n",
       "      <th></th>\n",
       "      <th>Id</th>\n",
       "      <th>CreatedAt</th>\n",
       "      <th>Source</th>\n",
       "      <th>IsoLanguageCode</th>\n",
       "      <th>RetweetCount</th>\n",
       "      <th>FavoriteCount / LikeCount</th>\n",
       "      <th>Text</th>\n",
       "      <th>IsReplyToStatusId</th>\n",
       "      <th>UserId</th>\n",
       "      <th>UserCreatedAt</th>\n",
       "      <th>...</th>\n",
       "      <th>IrUserLang</th>\n",
       "      <th>IrUserName</th>\n",
       "      <th>IrUserScreenName</th>\n",
       "      <th>IrUserLocation</th>\n",
       "      <th>IrUserFollowersCount</th>\n",
       "      <th>IrUserFriendsCount</th>\n",
       "      <th>IrUserVerified</th>\n",
       "      <th>IrUserDescription</th>\n",
       "      <th>IrUserUrl</th>\n",
       "      <th>IrUserProfileImageUrl</th>\n",
       "    </tr>\n",
       "  </thead>\n",
       "  <tbody>\n",
       "    <tr>\n",
       "      <th>0</th>\n",
       "      <td>416816163109085184</td>\n",
       "      <td>2013-12-28 06:21:32.0</td>\n",
       "      <td>NaN</td>\n",
       "      <td>en</td>\n",
       "      <td>1</td>\n",
       "      <td>2</td>\n",
       "      <td>Subjective Reality and Strong AI http://t.co/Y...</td>\n",
       "      <td>NaN</td>\n",
       "      <td>16837872</td>\n",
       "      <td>2008-10-18 10:49:30.0</td>\n",
       "      <td>...</td>\n",
       "      <td>NaN</td>\n",
       "      <td>NaN</td>\n",
       "      <td>NaN</td>\n",
       "      <td>NaN</td>\n",
       "      <td>NaN</td>\n",
       "      <td>NaN</td>\n",
       "      <td>NaN</td>\n",
       "      <td>NaN</td>\n",
       "      <td>NaN</td>\n",
       "      <td>NaN</td>\n",
       "    </tr>\n",
       "    <tr>\n",
       "      <th>1</th>\n",
       "      <td>731271699950239744</td>\n",
       "      <td>2016-05-13 23:55:34.0</td>\n",
       "      <td>NaN</td>\n",
       "      <td>en</td>\n",
       "      <td>0</td>\n",
       "      <td>0</td>\n",
       "      <td>@rickblauraya @BenBajarin Rick, great question...</td>\n",
       "      <td>7.312712e+17</td>\n",
       "      <td>101584084</td>\n",
       "      <td>2010-01-03 22:04:29.0</td>\n",
       "      <td>...</td>\n",
       "      <td>NaN</td>\n",
       "      <td>NaN</td>\n",
       "      <td>NaN</td>\n",
       "      <td>NaN</td>\n",
       "      <td>NaN</td>\n",
       "      <td>NaN</td>\n",
       "      <td>NaN</td>\n",
       "      <td>NaN</td>\n",
       "      <td>NaN</td>\n",
       "      <td>NaN</td>\n",
       "    </tr>\n",
       "    <tr>\n",
       "      <th>2</th>\n",
       "      <td>1050451843338231808</td>\n",
       "      <td>2018-10-11 18:23:30.0</td>\n",
       "      <td>NaN</td>\n",
       "      <td>en</td>\n",
       "      <td>0</td>\n",
       "      <td>1</td>\n",
       "      <td>YouTube needs a \"skip to the essence\" button.</td>\n",
       "      <td>NaN</td>\n",
       "      <td>49573449</td>\n",
       "      <td>2009-06-22 08:21:31.0</td>\n",
       "      <td>...</td>\n",
       "      <td>NaN</td>\n",
       "      <td>NaN</td>\n",
       "      <td>NaN</td>\n",
       "      <td>NaN</td>\n",
       "      <td>NaN</td>\n",
       "      <td>NaN</td>\n",
       "      <td>NaN</td>\n",
       "      <td>NaN</td>\n",
       "      <td>NaN</td>\n",
       "      <td>NaN</td>\n",
       "    </tr>\n",
       "    <tr>\n",
       "      <th>3</th>\n",
       "      <td>1081584255510155264</td>\n",
       "      <td>2019-01-05 16:12:36.0</td>\n",
       "      <td>NaN</td>\n",
       "      <td>en</td>\n",
       "      <td>818</td>\n",
       "      <td>4413</td>\n",
       "      <td>Predictions for the three most important techn...</td>\n",
       "      <td>NaN</td>\n",
       "      <td>1605</td>\n",
       "      <td>2006-07-16 22:01:55.0</td>\n",
       "      <td>...</td>\n",
       "      <td>NaN</td>\n",
       "      <td>NaN</td>\n",
       "      <td>NaN</td>\n",
       "      <td>NaN</td>\n",
       "      <td>NaN</td>\n",
       "      <td>NaN</td>\n",
       "      <td>NaN</td>\n",
       "      <td>NaN</td>\n",
       "      <td>NaN</td>\n",
       "      <td>NaN</td>\n",
       "    </tr>\n",
       "    <tr>\n",
       "      <th>4</th>\n",
       "      <td>1154771974213816321</td>\n",
       "      <td>2019-07-26 15:14:27.0</td>\n",
       "      <td>NaN</td>\n",
       "      <td>en</td>\n",
       "      <td>210</td>\n",
       "      <td>965</td>\n",
       "      <td>🦄 We ported @openai's GPT-2 to run on-device (...</td>\n",
       "      <td>NaN</td>\n",
       "      <td>16141659</td>\n",
       "      <td>2008-09-05 07:56:27.0</td>\n",
       "      <td>...</td>\n",
       "      <td>NaN</td>\n",
       "      <td>NaN</td>\n",
       "      <td>NaN</td>\n",
       "      <td>NaN</td>\n",
       "      <td>NaN</td>\n",
       "      <td>NaN</td>\n",
       "      <td>NaN</td>\n",
       "      <td>NaN</td>\n",
       "      <td>NaN</td>\n",
       "      <td>NaN</td>\n",
       "    </tr>\n",
       "  </tbody>\n",
       "</table>\n",
       "<p>5 rows × 40 columns</p>\n",
       "</div>"
      ],
      "text/plain": [
       "                    Id              CreatedAt  Source IsoLanguageCode  \\\n",
       "0   416816163109085184  2013-12-28 06:21:32.0     NaN              en   \n",
       "1   731271699950239744  2016-05-13 23:55:34.0     NaN              en   \n",
       "2  1050451843338231808  2018-10-11 18:23:30.0     NaN              en   \n",
       "3  1081584255510155264  2019-01-05 16:12:36.0     NaN              en   \n",
       "4  1154771974213816321  2019-07-26 15:14:27.0     NaN              en   \n",
       "\n",
       "   RetweetCount  FavoriteCount / LikeCount  \\\n",
       "0             1                          2   \n",
       "1             0                          0   \n",
       "2             0                          1   \n",
       "3           818                       4413   \n",
       "4           210                        965   \n",
       "\n",
       "                                                Text  IsReplyToStatusId  \\\n",
       "0  Subjective Reality and Strong AI http://t.co/Y...                NaN   \n",
       "1  @rickblauraya @BenBajarin Rick, great question...       7.312712e+17   \n",
       "2      YouTube needs a \"skip to the essence\" button.                NaN   \n",
       "3  Predictions for the three most important techn...                NaN   \n",
       "4  🦄 We ported @openai's GPT-2 to run on-device (...                NaN   \n",
       "\n",
       "      UserId          UserCreatedAt  ...  IrUserLang IrUserName  \\\n",
       "0   16837872  2008-10-18 10:49:30.0  ...         NaN        NaN   \n",
       "1  101584084  2010-01-03 22:04:29.0  ...         NaN        NaN   \n",
       "2   49573449  2009-06-22 08:21:31.0  ...         NaN        NaN   \n",
       "3       1605  2006-07-16 22:01:55.0  ...         NaN        NaN   \n",
       "4   16141659  2008-09-05 07:56:27.0  ...         NaN        NaN   \n",
       "\n",
       "  IrUserScreenName IrUserLocation  IrUserFollowersCount  IrUserFriendsCount  \\\n",
       "0              NaN            NaN                   NaN                 NaN   \n",
       "1              NaN            NaN                   NaN                 NaN   \n",
       "2              NaN            NaN                   NaN                 NaN   \n",
       "3              NaN            NaN                   NaN                 NaN   \n",
       "4              NaN            NaN                   NaN                 NaN   \n",
       "\n",
       "   IrUserVerified IrUserDescription IrUserUrl IrUserProfileImageUrl  \n",
       "0             NaN               NaN       NaN                   NaN  \n",
       "1             NaN               NaN       NaN                   NaN  \n",
       "2             NaN               NaN       NaN                   NaN  \n",
       "3             NaN               NaN       NaN                   NaN  \n",
       "4             NaN               NaN       NaN                   NaN  \n",
       "\n",
       "[5 rows x 40 columns]"
      ]
     },
     "execution_count": 3,
     "metadata": {},
     "output_type": "execute_result"
    }
   ],
   "source": [
    "twitter.head()"
   ]
  },
  {
   "cell_type": "code",
   "execution_count": 4,
   "id": "179f556a-b230-4af7-91ea-84fb9d8f3883",
   "metadata": {},
   "outputs": [
    {
     "name": "stdout",
     "output_type": "stream",
     "text": [
      "<class 'pandas.core.frame.DataFrame'>\n",
      "RangeIndex: 150009 entries, 0 to 150008\n",
      "Data columns (total 40 columns):\n",
      " #   Column                         Non-Null Count   Dtype  \n",
      "---  ------                         --------------   -----  \n",
      " 0   Id                             150009 non-null  int64  \n",
      " 1   CreatedAt                      150009 non-null  object \n",
      " 2   Source                         0 non-null       float64\n",
      " 3   IsoLanguageCode                150009 non-null  object \n",
      " 4   RetweetCount                   150009 non-null  int64  \n",
      " 5   FavoriteCount / LikeCount      150009 non-null  int64  \n",
      " 6   Text                           150009 non-null  object \n",
      " 7   IsReplyToStatusId              122512 non-null  float64\n",
      " 8   UserId                         150009 non-null  int64  \n",
      " 9   UserCreatedAt                  150009 non-null  object \n",
      " 10  UserLang                       0 non-null       float64\n",
      " 11  UserName                       150009 non-null  object \n",
      " 12  UserScreenName                 149996 non-null  object \n",
      " 13  UserLocation                   98031 non-null   object \n",
      " 14  UserFollowersCount             150009 non-null  int64  \n",
      " 15  UserFriendsCount               150009 non-null  int64  \n",
      " 16  UserVerified                   150009 non-null  int64  \n",
      " 17  UserDescription                128759 non-null  object \n",
      " 18  UserUrl                        69263 non-null   object \n",
      " 19  UserProfileImageUrl            150005 non-null  object \n",
      " 20  IrId                           115599 non-null  float64\n",
      " 21  IrCreatedAt                    115599 non-null  object \n",
      " 22  IrSource                       0 non-null       float64\n",
      " 23  IrIsoLanguageCode              115599 non-null  object \n",
      " 24  IrRetweetCount                 115599 non-null  float64\n",
      " 25  IrFavoriteCount / IrLikeCount  0 non-null       float64\n",
      " 26  IrText                         115599 non-null  object \n",
      " 27  IrIsReplyToStatusId            21189 non-null   float64\n",
      " 28  IrUserId                       115599 non-null  float64\n",
      " 29  IrUserCreatedAt                115599 non-null  object \n",
      " 30  IrUserLang                     0 non-null       float64\n",
      " 31  IrUserName                     115599 non-null  object \n",
      " 32  IrUserScreenName               115597 non-null  object \n",
      " 33  IrUserLocation                 90465 non-null   object \n",
      " 34  IrUserFollowersCount           115599 non-null  float64\n",
      " 35  IrUserFriendsCount             115599 non-null  float64\n",
      " 36  IrUserVerified                 115599 non-null  float64\n",
      " 37  IrUserDescription              110982 non-null  object \n",
      " 38  IrUserUrl                      95061 non-null   object \n",
      " 39  IrUserProfileImageUrl          115598 non-null  object \n",
      "dtypes: float64(13), int64(7), object(20)\n",
      "memory usage: 45.8+ MB\n"
     ]
    }
   ],
   "source": [
    "# checking the structure of the data set\n",
    "twitter.info()"
   ]
  },
  {
   "cell_type": "markdown",
   "id": "fb917fd3-6d1e-4684-b99d-059c47acefb6",
   "metadata": {},
   "source": [
    "Because we are only interested in the insights after the date of release (30.November 2022), we will only consider the data in the time stamp between 30.11.2022 until 06.02.2023."
   ]
  },
  {
   "cell_type": "code",
   "execution_count": 5,
   "id": "1e388e18-661c-46df-800d-51d764fe1a52",
   "metadata": {},
   "outputs": [
    {
     "name": "stdout",
     "output_type": "stream",
     "text": [
      "Id                                    0\n",
      "CreatedAt                             0\n",
      "Source                           150009\n",
      "IsoLanguageCode                       0\n",
      "RetweetCount                          0\n",
      "FavoriteCount / LikeCount             0\n",
      "Text                                  0\n",
      "IsReplyToStatusId                 27497\n",
      "UserId                                0\n",
      "UserCreatedAt                         0\n",
      "UserLang                         150009\n",
      "UserName                              0\n",
      "UserScreenName                       13\n",
      "UserLocation                      51978\n",
      "UserFollowersCount                    0\n",
      "UserFriendsCount                      0\n",
      "UserVerified                          0\n",
      "UserDescription                   21250\n",
      "UserUrl                           80746\n",
      "UserProfileImageUrl                   4\n",
      "IrId                              34410\n",
      "IrCreatedAt                       34410\n",
      "IrSource                         150009\n",
      "IrIsoLanguageCode                 34410\n",
      "IrRetweetCount                    34410\n",
      "IrFavoriteCount / IrLikeCount    150009\n",
      "IrText                            34410\n",
      "IrIsReplyToStatusId              128820\n",
      "IrUserId                          34410\n",
      "IrUserCreatedAt                   34410\n",
      "IrUserLang                       150009\n",
      "IrUserName                        34410\n",
      "IrUserScreenName                  34412\n",
      "IrUserLocation                    59544\n",
      "IrUserFollowersCount              34410\n",
      "IrUserFriendsCount                34410\n",
      "IrUserVerified                    34410\n",
      "IrUserDescription                 39027\n",
      "IrUserUrl                         54948\n",
      "IrUserProfileImageUrl             34411\n",
      "dtype: int64\n"
     ]
    }
   ],
   "source": [
    "# identifying missing values\n",
    "missing_values = twitter.isna().sum()\n",
    "print(missing_values)"
   ]
  },
  {
   "cell_type": "code",
   "execution_count": 6,
   "id": "e3c090fe-1fe1-4ea4-9e11-a2f407771813",
   "metadata": {},
   "outputs": [],
   "source": [
    "# Convert 'CreatedAt' column to datetime format, including fractional seconds\n",
    "twitter['CreatedAt'] = pd.to_datetime(twitter['CreatedAt'], format='%Y-%m-%d %H:%M:%S.%f', errors='coerce')"
   ]
  },
  {
   "cell_type": "code",
   "execution_count": 7,
   "id": "da67b3b4-1216-4912-8e92-83e43dcfb4da",
   "metadata": {},
   "outputs": [
    {
     "data": {
      "text/plain": [
       "0"
      ]
     },
     "execution_count": 7,
     "metadata": {},
     "output_type": "execute_result"
    }
   ],
   "source": [
    "twitter['CreatedAt'].isna().sum()"
   ]
  },
  {
   "cell_type": "code",
   "execution_count": 8,
   "id": "9b08e31e-9487-459a-9260-6dd2f62fce30",
   "metadata": {},
   "outputs": [],
   "source": [
    "# Filter the data\n",
    "start_date = datetime.strptime(\"2022-11-30 00:00:00\", \"%Y-%m-%d %H:%M:%S\")\n",
    "end_date = datetime.strptime(\"2023-02-06 23:59:59\", \"%Y-%m-%d %H:%M:%S\")\n",
    "twitter_filtered = twitter[(twitter['CreatedAt'] >= start_date) & (twitter['CreatedAt'] <= end_date)]"
   ]
  },
  {
   "cell_type": "code",
   "execution_count": 9,
   "id": "5af2503b-5642-4bc1-83cc-227dd22ba0e5",
   "metadata": {},
   "outputs": [
    {
     "name": "stdout",
     "output_type": "stream",
     "text": [
      "<class 'pandas.core.frame.DataFrame'>\n",
      "Index: 146469 entries, 3540 to 150008\n",
      "Data columns (total 40 columns):\n",
      " #   Column                         Non-Null Count   Dtype         \n",
      "---  ------                         --------------   -----         \n",
      " 0   Id                             146469 non-null  int64         \n",
      " 1   CreatedAt                      146469 non-null  datetime64[ns]\n",
      " 2   Source                         0 non-null       float64       \n",
      " 3   IsoLanguageCode                146469 non-null  object        \n",
      " 4   RetweetCount                   146469 non-null  int64         \n",
      " 5   FavoriteCount / LikeCount      146469 non-null  int64         \n",
      " 6   Text                           146469 non-null  object        \n",
      " 7   IsReplyToStatusId              120371 non-null  float64       \n",
      " 8   UserId                         146469 non-null  int64         \n",
      " 9   UserCreatedAt                  146469 non-null  object        \n",
      " 10  UserLang                       0 non-null       float64       \n",
      " 11  UserName                       146469 non-null  object        \n",
      " 12  UserScreenName                 146456 non-null  object        \n",
      " 13  UserLocation                   95477 non-null   object        \n",
      " 14  UserFollowersCount             146469 non-null  int64         \n",
      " 15  UserFriendsCount               146469 non-null  int64         \n",
      " 16  UserVerified                   146469 non-null  int64         \n",
      " 17  UserDescription                125455 non-null  object        \n",
      " 18  UserUrl                        66989 non-null   object        \n",
      " 19  UserProfileImageUrl            146465 non-null  object        \n",
      " 20  IrId                           113802 non-null  float64       \n",
      " 21  IrCreatedAt                    113802 non-null  object        \n",
      " 22  IrSource                       0 non-null       float64       \n",
      " 23  IrIsoLanguageCode              113802 non-null  object        \n",
      " 24  IrRetweetCount                 113802 non-null  float64       \n",
      " 25  IrFavoriteCount / IrLikeCount  0 non-null       float64       \n",
      " 26  IrText                         113802 non-null  object        \n",
      " 27  IrIsReplyToStatusId            20848 non-null   float64       \n",
      " 28  IrUserId                       113802 non-null  float64       \n",
      " 29  IrUserCreatedAt                113802 non-null  object        \n",
      " 30  IrUserLang                     0 non-null       float64       \n",
      " 31  IrUserName                     113802 non-null  object        \n",
      " 32  IrUserScreenName               113800 non-null  object        \n",
      " 33  IrUserLocation                 89212 non-null   object        \n",
      " 34  IrUserFollowersCount           113802 non-null  float64       \n",
      " 35  IrUserFriendsCount             113802 non-null  float64       \n",
      " 36  IrUserVerified                 113802 non-null  float64       \n",
      " 37  IrUserDescription              109195 non-null  object        \n",
      " 38  IrUserUrl                      93619 non-null   object        \n",
      " 39  IrUserProfileImageUrl          113801 non-null  object        \n",
      "dtypes: datetime64[ns](1), float64(13), int64(7), object(19)\n",
      "memory usage: 45.8+ MB\n"
     ]
    }
   ],
   "source": [
    "twitter_filtered.info()"
   ]
  },
  {
   "cell_type": "markdown",
   "id": "bb8cb370-c544-472e-90b6-92a5758994fd",
   "metadata": {},
   "source": [
    "A total of 146,469 tweets were recorded from 30.11.2022 to 06.02.2023.\n",
    "\n",
    "Secondly, we would like to remove the retweets from our dataset. Typically, retweets start with \"RT\", followed by the username of the original author and the content of the original tweet."
   ]
  },
  {
   "cell_type": "code",
   "execution_count": 10,
   "id": "549f1384-cf61-4b4a-a8bf-b58c2c3b77e8",
   "metadata": {},
   "outputs": [
    {
     "name": "stdout",
     "output_type": "stream",
     "text": [
      "Without retweets, the data set only consists of  52551 tweets.\n"
     ]
    }
   ],
   "source": [
    "# Filter out rows where the 'Text' column starts with \"RT\"\n",
    "twitter_filtered = twitter_filtered[~twitter_filtered['Text'].str.startswith(\"RT\")]\n",
    "print(\"Without retweets, the data set only consists of \", len(twitter_filtered), \"tweets.\")"
   ]
  },
  {
   "cell_type": "markdown",
   "id": "268d520d-45e6-4b93-8779-b73d5c4888b2",
   "metadata": {},
   "source": [
    "Tweets with the topic Chat-GPT or AI are also not taken into account. Keywords for the filter are as follows: "
   ]
  },
  {
   "cell_type": "code",
   "execution_count": 11,
   "id": "5e7623cc-5e82-4757-a315-98e68a5f4c4d",
   "metadata": {},
   "outputs": [
    {
     "name": "stdout",
     "output_type": "stream",
     "text": [
      "relevant: 40794\n",
      "irrelevant: 11757\n"
     ]
    }
   ],
   "source": [
    "keywords = [\"ChatGPT\", \"chatGPT\", \"CHATGPT\", \"chatgpt\", \"GPT-3\", \"GPT3\", \"GPT-3.5\", \"GPT3.5\", \"gpt-3\", \"gpt3\", \"gpt-3.5\", \"gpt3.5\" , \"OpenAI\"]\n",
    "\n",
    "# Create a pattern string for regex search\n",
    "pattern = '|'.join(keywords)\n",
    "\n",
    "# Filter tweets that contain any of the keywords (case insensitive)\n",
    "relevant_tweets = twitter_filtered[twitter_filtered['Text'].str.contains(pattern, case=False, na=False)]\n",
    "\n",
    "# Filter tweets that do not contain any of the keywords (case insensitive)\n",
    "irrelevant_tweets = twitter_filtered[~twitter_filtered['Text'].str.contains(pattern, case=False, na=False)]\n",
    "\n",
    "print(\"relevant:\" , len(relevant_tweets))\n",
    "print(\"irrelevant:\" , len(irrelevant_tweets))"
   ]
  },
  {
   "cell_type": "markdown",
   "id": "0372f6a1-4c59-4858-9f5a-3db13a4fd4cd",
   "metadata": {},
   "source": [
    "The variables \"Source\" and \"UserLang\" only have explicit missing values and are therefore irrelevant for this study. The variables beginning with \"Ir\" contain information related to 'Retweets' and 'Replies'. Our study mainly focuses on the texts written by users, which means that information about retweets, such as retweet IDs, is irrelevant for the sentiment and topic analysis. Therefore, all variables beginning with \"Ir\" are disregarded. This affects a total of 20 variables. Furthermore, the variables \"UserUrl\", \"UserProfileImageUrl\", \"IsoLanguageCode\", \"IsReplyToStatusId\", \"UserId\", \"UserCreatedAt\", \"UserLang\", \"UserName\", \"UserScreenName\" and \"UserDescription\" do not provide any relevant information for the sentiment analysis, as we are primarily interested in the opinions expressed and not in the characteristics of the users. These are therefore also neglected. This reduces the number of variables to be considered to 8."
   ]
  },
  {
   "cell_type": "code",
   "execution_count": 12,
   "id": "361e4e26-d5c8-4da2-8773-f8844048cd50",
   "metadata": {},
   "outputs": [
    {
     "name": "stdout",
     "output_type": "stream",
     "text": [
      "Number of tweets for the analysis:  40794\n"
     ]
    }
   ],
   "source": [
    "# Create a new DataFrame with selected columns from 'relevant_tweets'\n",
    "twitter_new = pd.DataFrame({\n",
    "    'Id': relevant_tweets['Id'],\n",
    "    'CreatedAt': relevant_tweets['CreatedAt'],\n",
    "    'RetweetCount': relevant_tweets['RetweetCount'],\n",
    "    'FavoriteCount_LikeCount': relevant_tweets['FavoriteCount / LikeCount'], # Adjust column name as per your DataFrame\n",
    "    'Text': relevant_tweets['Text'],\n",
    "    'UserFollowersCount': relevant_tweets['UserFollowersCount'],\n",
    "    'UserFriendsCount': relevant_tweets['UserFriendsCount'],\n",
    "    'UserVerified': relevant_tweets['UserVerified']\n",
    "})\n",
    "\n",
    "print(\"Number of tweets for the analysis: \", len(twitter_new))"
   ]
  },
  {
   "cell_type": "code",
   "execution_count": 13,
   "id": "8aef6ae6-97b4-4c82-83cb-7953e9351b30",
   "metadata": {},
   "outputs": [
    {
     "name": "stdout",
     "output_type": "stream",
     "text": [
      "Id                         0\n",
      "CreatedAt                  0\n",
      "RetweetCount               0\n",
      "FavoriteCount_LikeCount    0\n",
      "Text                       0\n",
      "UserFollowersCount         0\n",
      "UserFriendsCount           0\n",
      "UserVerified               0\n",
      "dtype: int64\n"
     ]
    }
   ],
   "source": [
    "# chkecking missing values before save\n",
    "print(twitter_new.isna().sum())\n"
   ]
  },
  {
   "cell_type": "code",
   "execution_count": 14,
   "id": "18efcb92-d42f-49fd-a9b3-a4cfc1e7b45a",
   "metadata": {},
   "outputs": [
    {
     "name": "stdout",
     "output_type": "stream",
     "text": [
      "Id                         0\n",
      "CreatedAt                  0\n",
      "RetweetCount               0\n",
      "FavoriteCount_LikeCount    0\n",
      "Text                       0\n",
      "UserFollowersCount         0\n",
      "UserFriendsCount           0\n",
      "UserVerified               0\n",
      "dtype: int64\n"
     ]
    }
   ],
   "source": [
    "# implicite missing values\n",
    "implicite = [\"\", \" \", \"NA\", \"N/A\", \"unknown\", \"Not Available\"]\n",
    "\n",
    "# Count the number of implicit missing values in each column\n",
    "implicit_missing_counts = twitter_new.apply(lambda x: x.isin(implicite).sum())\n",
    "\n",
    "print(implicit_missing_counts)"
   ]
  },
  {
   "cell_type": "markdown",
   "id": "f8371af1-d761-4c5e-98c9-51b81d130e73",
   "metadata": {},
   "source": [
    "The \"Text\" variable contains the tweets that are to be analyzed and must first be pre-processed. Content such as hashtags, emojis or user mentions can affect the model and should therefore be removed first. The cleanup is carried out in Python. To simplify the import into Python, the DataFrame is saved as a CSV file."
   ]
  },
  {
   "cell_type": "code",
   "execution_count": 15,
   "id": "97be7e3c-d874-4d8b-a167-25ca016c0cc4",
   "metadata": {},
   "outputs": [],
   "source": [
    "twitter_new.to_csv(\"C:/Users/nomen/Twitter_Data_Analysis/data/twitter_clean.csv\", encoding='utf-8', index=False)"
   ]
  },
  {
   "cell_type": "markdown",
   "id": "7dc33fd3-e9ec-48dd-871f-6951bb87d5da",
   "metadata": {},
   "source": [
    "After data cleansing and pre-processing the data in python, we identified 39.679 duplicate, which were also removed.\n",
    "For the analysis we had 39,679 rows of data and 8 variables remaining. "
   ]
  },
  {
   "cell_type": "code",
   "execution_count": null,
   "id": "140d2a32-3764-4f4f-ba76-5fbc5fdca060",
   "metadata": {},
   "outputs": [],
   "source": []
  }
 ],
 "metadata": {
  "kernelspec": {
   "display_name": "Python 3 (ipykernel)",
   "language": "python",
   "name": "python3"
  },
  "language_info": {
   "codemirror_mode": {
    "name": "ipython",
    "version": 3
   },
   "file_extension": ".py",
   "mimetype": "text/x-python",
   "name": "python",
   "nbconvert_exporter": "python",
   "pygments_lexer": "ipython3",
   "version": "3.10.13"
  }
 },
 "nbformat": 4,
 "nbformat_minor": 5
}
