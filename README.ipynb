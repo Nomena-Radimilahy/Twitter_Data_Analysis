{
 "cells": [
  {
   "cell_type": "markdown",
   "id": "91dc36ce-6271-4c7b-a2fe-2a45f006055d",
   "metadata": {},
   "source": [
    "# Analysis of the public perception of ChatGPT on social media"
   ]
  },
  {
   "cell_type": "markdown",
   "id": "878c40cc-9a15-4742-a8d4-4e1fc2d4bc90",
   "metadata": {},
   "source": [
    "## Description\n",
    "\n",
    "ChatGPT, a generative AI system developed by OpenAI, has quickly become one of the most widely adopted online services. Despite significant public interest in ChatGPT, there has been relatively little research on how the public perceives this technology. This project aims to analyze the public perception of ChatGPT on Twitter, specifically focusing on the first three months following its release.\r\n",
    "\r\n",
    "The analysis seeks to address the following research questions:\r\n",
    "\r\n",
    "**RQ1**: How did social media users react to ChatGPT in the first three months after its release?\r\n",
    "\r\n",
    "**RQ2**: Which aspects of ChatGPT were most frequently discussed on Twitter?\r\n",
    "\r\n",
    "To answer these qu stions, the study employs sentiment analysis using the VADER tool and topic modeling  nalys s using BRTopic.\r\n",
    "ERTopic.\n",
    "ase."
   ]
  },
  {
   "cell_type": "markdown",
   "id": "8f631589-8027-4a3c-8149-ae13c94022b5",
   "metadata": {},
   "source": [
    "## Installation\n",
    "\n",
    "To replicate the model and ensure consistent performance across different systems, it is crucial to set up the same environment. We provide an **environment.yml** file that contains all the necessary dependencies. Follow these steps to create and activate the environment:\n",
    "\n",
    "\n",
    "**1. Install Anaconda or Miniconda:** If you haven't already, install Anaconda or Miniconda on your system.\n",
    "\n",
    "**2. Create the Conda Environment:** Navigate to the directory containing the *environment.yml* file. Then, create the conda environment by running the following command:\n",
    "\n",
    "```\n",
    "conda env create -f environment.yml\n",
    "\n",
    "``\n",
    "\n",
    "**3. Activate the Environment:** Once the environment is successfully created, activate it using:\n",
    "\n",
    "```\n",
    "conda activate [environment name]\n",
    "\n",
    "```\n",
    "**4. Verify Installation:** To ensure that the environment was installed correctly and all packages are in place, you can run:\n",
    "\n",
    "```\n",
    "conda list\n",
    "```\n",
    "\n",
    "`"
   ]
  },
  {
   "cell_type": "markdown",
   "id": "f63a7fa7-d020-4552-90b5-6ff330b1222f",
   "metadata": {},
   "source": [
    "## Contact\n",
    "\n",
    "If you have any questions, feedback, or suggestions regarding this project, please feel free to reach out. You can contact me at:\n",
    "\n",
    "Name: Rado Nomena Radimilahy\n",
    "\n",
    "Email: radimilahy@uni-potsdam.de\n",
    "\n",
    "Please allow a reasonable amount of time for a response. I will do my best to address your inquiries and provide assistance as needed.\n"
   ]
  },
  {
   "cell_type": "code",
   "execution_count": null,
   "id": "9f2df4e4-54b3-43f4-a827-c5b3d4382fa5",
   "metadata": {},
   "outputs": [],
   "source": []
  }
 ],
 "metadata": {
  "kernelspec": {
   "display_name": "Python 3 (ipykernel)",
   "language": "python",
   "name": "python3"
  },
  "language_info": {
   "codemirror_mode": {
    "name": "ipython",
    "version": 3
   },
   "file_extension": ".py",
   "mimetype": "text/x-python",
   "name": "python",
   "nbconvert_exporter": "python",
   "pygments_lexer": "ipython3",
   "version": "3.10.13"
  }
 },
 "nbformat": 4,
 "nbformat_minor": 5
}
